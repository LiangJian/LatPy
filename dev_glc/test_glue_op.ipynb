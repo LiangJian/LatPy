{
 "metadata": {
  "orig_nbformat": 2,
  "kernelspec": {
   "name": "python3",
   "display_name": "Python 3",
   "language": "python"
  }
 },
 "nbformat": 4,
 "nbformat_minor": 2,
 "cells": [
  {
   "source": [
    "该程序用来读入胶球算符，构建胶球两点关联函数，并通过变分法来得到优化算符。注意a1pp算符需要做真空减除。我们将考虑不同的减除方案。"
   ],
   "cell_type": "markdown",
   "metadata": {}
  },
  {
   "cell_type": "code",
   "execution_count": 63,
   "metadata": {},
   "outputs": [],
   "source": [
    "from mpi4py import MPI\n",
    "import timeit\n",
    "import numpy as np\n",
    "from scipy import signal\n",
    "import heat as ht\n",
    "import torch"
   ]
  },
  {
   "cell_type": "code",
   "execution_count": 40,
   "metadata": {},
   "outputs": [],
   "source": [
    "path = \"/CLQCD/configs/purgauge/aniso5beta30l24t144/\"\n",
    "files = [path + \"glb_%04i.dat\"%i for i in range(1,100)]\n",
    "nx,nt=8,96\n",
    "nconf = len(files)"
   ]
  },
  {
   "cell_type": "code",
   "execution_count": 55,
   "metadata": {},
   "outputs": [],
   "source": [
    "choice_channel={\"a1pp\":(0,24),\"a2pp\":(24,48),\"e_pp\":(48,96),\"t1pp\":(96,168),\"t2pp\":(168,240),\n",
    "\"a1pm\":(240,264),\"a2pm\":(264,288),\"e_pm\":(288,336),\"t1pm\":(336,408),\"t2pm\":(408,480),\n",
    "\"a1mp\":(480,504),\"a2mp\":(504,516),\"e_mp\":(528,576),\"t1mp\":(576,648),\"t2mp\":(648,720),\n",
    "\"a1mm\":(720,744),\"a2mm\":(744,768),\"e_mm\":(768,816),\"t1mm\":(816,888),\"t2mm\":(888,960)}"
   ]
  },
  {
   "cell_type": "code",
   "execution_count": 43,
   "metadata": {},
   "outputs": [],
   "source": [
    "tmp_data = np.zeros((nconf,nt,998))"
   ]
  },
  {
   "cell_type": "code",
   "execution_count": 44,
   "metadata": {},
   "outputs": [],
   "source": [
    "j=0\n",
    "for i in files:\n",
    "    tmp_data[j,...] =np.fromfile(i).reshape(nt,998) "
   ]
  },
  {
   "cell_type": "code",
   "execution_count": 53,
   "metadata": {},
   "outputs": [],
   "source": [
    "np.save(\"glue_op_nx8nt96xi5beta30.npy\",tmp_data[:,:,:960])"
   ]
  },
  {
   "cell_type": "code",
   "execution_count": 78,
   "metadata": {},
   "outputs": [],
   "source": [
    "glue_op = tmp_data[:,:,choice_channel[\"a1pp\"][0]:choice_channel[\"a1pp\"][1]]"
   ]
  },
  {
   "cell_type": "code",
   "execution_count": null,
   "metadata": {},
   "outputs": [],
   "source": []
  },
  {
   "cell_type": "code",
   "execution_count": 79,
   "metadata": {},
   "outputs": [],
   "source": [
    "vacuue = np.average(glue_op,0)"
   ]
  },
  {
   "cell_type": "code",
   "execution_count": 80,
   "metadata": {},
   "outputs": [],
   "source": [
    "nop = vacuue.shape[1]"
   ]
  },
  {
   "cell_type": "code",
   "execution_count": 81,
   "metadata": {},
   "outputs": [],
   "source": [
    "glue_op = glue_op - vacuue[np.newaxis,:,:]"
   ]
  },
  {
   "cell_type": "code",
   "execution_count": 82,
   "metadata": {},
   "outputs": [],
   "source": [
    "glue_cor = np.zeros((nconf,nt,nop,nop))"
   ]
  },
  {
   "cell_type": "code",
   "execution_count": 83,
   "metadata": {},
   "outputs": [],
   "source": [
    "for i in range(nt):\n",
    "    glue_op_shift = np.roll(glue_op,shift=-i,axis=1)\n",
    "    glue_cor[:,i,:,:] = np.einsum(\"ijk,ijm->ikm\",glue_op,glue_op_shift)"
   ]
  },
  {
   "cell_type": "code",
   "execution_count": 84,
   "metadata": {},
   "outputs": [],
   "source": [
    "glue_cor_ave = np.average(glue_cor,0)"
   ]
  },
  {
   "cell_type": "code",
   "execution_count": 85,
   "metadata": {},
   "outputs": [
    {
     "output_type": "execute_result",
     "data": {
      "text/plain": [
       "array([103.00654573, 103.00335065, 103.00166798, 102.99986647,\n",
       "       102.99838758, 102.99782086, 102.99689213, 102.99691241,\n",
       "       102.99631625, 102.99587518, 102.99604706, 102.99590103,\n",
       "       102.9965758 , 102.99552279, 102.9954211 , 102.99511355,\n",
       "       102.99519889, 102.99644906, 102.99694651, 102.99786477,\n",
       "       102.99804461, 102.99745689, 102.99722745, 102.99555767,\n",
       "       102.99523687, 102.99404237, 102.99222867, 102.99190421,\n",
       "       102.99192103, 102.99232512, 102.9920327 , 102.99214419,\n",
       "       102.99190204, 102.99135025, 102.99183875, 102.99174878,\n",
       "       102.9922303 , 102.99226504, 102.99170063, 102.99173608,\n",
       "       102.99190345, 102.99218736, 102.99179201, 102.99138676,\n",
       "       102.99076079, 102.9900633 , 102.99015462, 102.9900087 ,\n",
       "       102.9900165 , 102.9900087 , 102.99015462, 102.9900633 ,\n",
       "       102.99076079, 102.99138676, 102.99179201, 102.99218736,\n",
       "       102.99190345, 102.99173608, 102.99170063, 102.99226504,\n",
       "       102.9922303 , 102.99174878, 102.99183875, 102.99135025,\n",
       "       102.99190204, 102.99214419, 102.9920327 , 102.99232512,\n",
       "       102.99192103, 102.99190421, 102.99222867, 102.99404237,\n",
       "       102.99523687, 102.99555767, 102.99722745, 102.99745689,\n",
       "       102.99804461, 102.99786477, 102.99694651, 102.99644906,\n",
       "       102.99519889, 102.99511355, 102.9954211 , 102.99552279,\n",
       "       102.9965758 , 102.99590103, 102.99604706, 102.99587518,\n",
       "       102.99631625, 102.99691241, 102.99689213, 102.99782086,\n",
       "       102.99838758, 102.99986647, 103.00166798, 103.00335065])"
      ]
     },
     "metadata": {},
     "execution_count": 85
    }
   ],
   "source": [
    "glue_cor_ave[:,0,0]"
   ]
  },
  {
   "cell_type": "code",
   "execution_count": 66,
   "metadata": {},
   "outputs": [],
   "source": [
    "a = np.arange(1,10)\n",
    "b = np.arange(10,1,-1)\n",
    "c = signal.convolve(a,b)"
   ]
  },
  {
   "cell_type": "code",
   "execution_count": 71,
   "metadata": {},
   "outputs": [
    {
     "output_type": "execute_result",
     "data": {
      "text/plain": [
       "array([1, 2, 3, 4, 5, 6, 7, 8, 9])"
      ]
     },
     "metadata": {},
     "execution_count": 71
    }
   ],
   "source": [
    "np.roll(a,shift=0)"
   ]
  },
  {
   "cell_type": "code",
   "execution_count": null,
   "metadata": {},
   "outputs": [],
   "source": []
  }
 ]
}